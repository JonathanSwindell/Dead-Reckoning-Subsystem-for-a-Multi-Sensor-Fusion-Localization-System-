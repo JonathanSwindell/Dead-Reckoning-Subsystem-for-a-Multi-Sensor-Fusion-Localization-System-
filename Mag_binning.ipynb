{
 "cells": [
  {
   "cell_type": "code",
   "execution_count": 7,
   "id": "95e199c7",
   "metadata": {},
   "outputs": [
    {
     "name": "stdout",
     "output_type": "stream",
     "text": [
      "5 meter lat offset 4.49167290005349e-05\n",
      "5 meter log offset 5.465669810584e-05\n",
      "{(18, 1): [(-86.647651, 34.718143)], (280, 24): [(-86.63336, 34.719184)], (233, 365): [(-86.635936, 34.734527)], (1, 373): [(-86.648617, 34.734879)]}\n"
     ]
    }
   ],
   "source": [
    "import numpy as np\n",
    "import math\n",
    "from geopy.distance import geodesic\n",
    "\n",
    "\n",
    "def group_locations(latitudes, longitudes):\n",
    "    # create a grid of 5 meter by 5 meter cells\n",
    "\n",
    "    # https://stackoverflow.com/questions/7477003/calculating-new-longitude-latitude-from-old-n-meters\n",
    "    \n",
    "    # The number of kilometers per degree of latitude is approximately the same at all locations, approx\n",
    "    # (pi/180) * r_earth = 111 km / degree \n",
    "\n",
    "    # The number of kilometers per degree of longitude is approximately\n",
    "    # (pi/180) * r_earth * cos(theta*pi/180) \n",
    "    # where theta is the latitude in degrees and r_earth is approximately 6378 km.\n",
    "\n",
    "\n",
    "\n",
    "    # To get the distance in meters for a 5 meter offset, we can divide 5 meters by the length of one \n",
    "    # degree of latitude at the equator (which is approximately 111,320 meters), giving us 0.0000448 degrees of latitude. \n",
    "    pi = math.pi\n",
    "    radius_earth = 6378000 # m\n",
    "    meters_displacement = 5 # m \n",
    "    dy = meters_displacement\n",
    "    dx = meters_displacement\n",
    "    \n",
    "    #                        (((180/pi)/radius_earth) deg / m ) dy = fiveMeterOffset_La (deg)\n",
    "    \n",
    "    fiveMeterOffset_La = ((180/pi)/radius_earth) * dy\n",
    "    fiveMeterOffset_Lo = (((180/pi)/radius_earth) * dx) / math.cos(max(latitudes) * pi/180)\n",
    "    \n",
    "    print(\"5 meter lat offset \" + str(fiveMeterOffset_La))\n",
    "    print(\"5 meter log offset \" + str(fiveMeterOffset_Lo))\n",
    "\n",
    "    lon_min, lon_max = min(longitudes), max(longitudes)\n",
    "    lat_min, lat_max = min(latitudes), max(latitudes)\n",
    "    lon_bins = np.arange(lon_min, lon_max + fiveMeterOffset_Lo, fiveMeterOffset_Lo)\n",
    "    lat_bins = np.arange(lat_min, lat_max + fiveMeterOffset_La, fiveMeterOffset_La)\n",
    "\n",
    "    # group locations into cells\n",
    "    cells = {}\n",
    "    for i in range(len(longitudes)):\n",
    "        lon, lat = longitudes[i], latitudes[i]\n",
    "        cell = (np.digitize(lon, lon_bins), np.digitize(lat, lat_bins))\n",
    "        if cell not in cells:\n",
    "            cells[cell] = []\n",
    "        cells[cell].append((lon, lat))\n",
    "\n",
    "    return cells\n",
    "\n",
    "# example usage\n",
    "# 34.718143, -86.647651 edge of OKT - south west edge of campus\n",
    "# 34.719184, -86.63336 south east edge of campus\n",
    "# 34.734527, -86.635936 north east edge of campus\n",
    "# 34.734879, -86.648617 north west edge of campus\n",
    "\n",
    "## Longitude test \n",
    "# distance between north west and south west points 1.1576mi via https://www.omnicalculator.com/other/latitude-longitude-distance\n",
    "# 1.1576mi = 1862.97661m; 1862.97661m / 5 = 372.4\n",
    "\n",
    "# Latitudes test\n",
    "# distance between north east and south east points 1.0701mi via https://www.omnicalculator.com/other/latitude-longitude-distance\n",
    "# 1.0701mi = 1722.15901m; 1722.15901m / 5 = 344 ; \n",
    "\n",
    "\n",
    "latitudes = [34.718143, 34.719184, 34.734527, 34.734879]\n",
    "longitudes = [-86.647651, -86.63336, -86.635936, -86.648617]\n",
    "cells = group_locations(latitudes, longitudes)\n",
    "print(cells)\n"
   ]
  },
  {
   "cell_type": "code",
   "execution_count": null,
   "id": "53902d62",
   "metadata": {},
   "outputs": [],
   "source": []
  }
 ],
 "metadata": {
  "kernelspec": {
   "display_name": "Python 3",
   "language": "python",
   "name": "python3"
  },
  "language_info": {
   "codemirror_mode": {
    "name": "ipython",
    "version": 3
   },
   "file_extension": ".py",
   "mimetype": "text/x-python",
   "name": "python",
   "nbconvert_exporter": "python",
   "pygments_lexer": "ipython3",
   "version": "3.8.8"
  }
 },
 "nbformat": 4,
 "nbformat_minor": 5
}
