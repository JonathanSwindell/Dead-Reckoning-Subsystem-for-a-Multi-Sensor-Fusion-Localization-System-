{
 "cells": [
  {
   "cell_type": "code",
   "execution_count": 8,
   "id": "5a0966e5",
   "metadata": {},
   "outputs": [
    {
     "name": "stdout",
     "output_type": "stream",
     "text": [
      "{(20, 1): [(-86.647651, 34.718143)], (306, 21): [(-86.63336, 34.719184)], (254, 328): [(-86.635936, 34.734527)], (1, 335): [(-86.648617, 34.734879)]}\n"
     ]
    }
   ],
   "source": [
    "import numpy as np\n",
    "from geopy.distance import geodesic\n",
    "\n",
    "def group_locations(longitudes, latitudes):\n",
    "    # create a grid of 5 meter by 5 meter cells\n",
    "    lon_min, lon_max = min(longitudes), max(longitudes)\n",
    "    lat_min, lat_max = min(latitudes), max(latitudes)\n",
    "    lon_bins = np.arange(lon_min, lon_max + 0.00005, 0.00005)\n",
    "    lat_bins = np.arange(lat_min, lat_max + 0.00005, 0.00005)\n",
    "\n",
    "    # group locations into cells\n",
    "    cells = {}\n",
    "    for i in range(len(longitudes)):\n",
    "        lon, lat = longitudes[i], latitudes[i]\n",
    "        cell = (np.digitize(lon, lon_bins), np.digitize(lat, lat_bins))\n",
    "        if cell not in cells:\n",
    "            cells[cell] = []\n",
    "        cells[cell].append((lon, lat))\n",
    "\n",
    "    return cells\n",
    "\n",
    "# example usage\n",
    "# 34.718143, -86.647651 edge of OKT - south west edge of campus\n",
    "# 34.719184, -86.63336 south east edge of campus\n",
    "# 34.734527, -86.635936 north east edge of campus\n",
    "# 34.734879, -86.648617 north west edge of campus\n",
    "\n",
    "# distance between north west and south west points 1.1576mi via https://www.omnicalculator.com/other/latitude-longitude-distance\n",
    "# 1.1576mi = 1862.97661m; 1862.97661m / 5 = 372.4\n",
    "\n",
    "# distance between north east and south east points 1.0701mi via https://www.omnicalculator.com/other/latitude-longitude-distance\n",
    "# 1.0701mi = 1722.15901m; 1722.15901m / 5 = 344 ; \n",
    "\n",
    "\n",
    "latitudes = [34.718143, 34.719184, 34.734527, 34.734879]\n",
    "longitudes = [-86.647651, -86.63336, -86.635936, -86.648617]\n",
    "cells = group_locations(longitudes, latitudes)\n",
    "print(cells)\n"
   ]
  },
  {
   "cell_type": "code",
   "execution_count": null,
   "id": "95e199c7",
   "metadata": {},
   "outputs": [],
   "source": []
  }
 ],
 "metadata": {
  "kernelspec": {
   "display_name": "Python 3",
   "language": "python",
   "name": "python3"
  },
  "language_info": {
   "codemirror_mode": {
    "name": "ipython",
    "version": 3
   },
   "file_extension": ".py",
   "mimetype": "text/x-python",
   "name": "python",
   "nbconvert_exporter": "python",
   "pygments_lexer": "ipython3",
   "version": "3.8.8"
  }
 },
 "nbformat": 4,
 "nbformat_minor": 5
}
