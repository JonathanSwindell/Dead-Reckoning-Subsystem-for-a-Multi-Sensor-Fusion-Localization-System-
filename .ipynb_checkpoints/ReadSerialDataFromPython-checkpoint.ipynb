{
 "cells": [
  {
   "cell_type": "markdown",
   "id": "bf19c1db",
   "metadata": {},
   "source": [
    "# Read Serial Data from IMU Sensor"
   ]
  },
  {
   "cell_type": "code",
   "execution_count": 19,
   "id": "f998c793",
   "metadata": {},
   "outputs": [],
   "source": [
    "import serial\n",
    "import time"
   ]
  },
  {
   "cell_type": "code",
   "execution_count": 20,
   "id": "1db8b5d2",
   "metadata": {},
   "outputs": [],
   "source": [
    "serialPort = serial.Serial(port = \"/dev/cu.usbmodem79878001\", baudrate=115200)"
   ]
  },
  {
   "cell_type": "code",
   "execution_count": 22,
   "id": "8f9c9b88",
   "metadata": {},
   "outputs": [
    {
     "name": "stdout",
     "output_type": "stream",
     "text": [
      "Magnetometer (x): 104.00\n",
      "Magnetometer (y): 320.00\n",
      "Magnetometer (z): 92.00\n",
      "Gyroscope (x): 3.00\n",
      "Gyroscope (y): 1.00\n",
      "Gyroscope (z): -2.00\n",
      "Time Stamp: 1086315\n",
      "Acceleration (x): -0.32\n",
      "Acceleration (y): -0.35\n",
      "Acceleration (z): 9.44\n",
      "Magnetometer (x): 104.00\n",
      "Magnetometer (y): 331.00\n",
      "Magnetometer (z): 86.00\n",
      "Gyroscope (x): 0.00\n",
      "Gyroscope (y): 0.00\n",
      "Gyroscope (z): 1.00\n",
      "Time Stamp: 1087315\n",
      "Acceleration (x): -0.31\n",
      "Acceleration (y): -0.33\n",
      "Acceleration (z): 9.45\n",
      "Magnetometer (x): 97.00\n",
      "Magnetometer (y): 307.00\n",
      "Magnetometer (z): 86.00\n",
      "Gyroscope (x): 2.00\n",
      "Gyroscope (y): 4.00\n",
      "Gyroscope (z): -1.00\n",
      "Time Stamp: 1088315\n",
      "Acceleration (x): -0.30\n",
      "Acceleration (y): -0.35\n",
      "Acceleration (z): 9.47\n",
      "Magnetometer (x): 97.00\n",
      "Magnetometer (y): 313.00\n",
      "Magnetometer (z): 81.00\n",
      "Gyroscope (x): 3.00\n",
      "Gyroscope (y): 0.00\n",
      "Gyroscope (z): -1.00\n",
      "Time Stamp: 1089315\n",
      "Acceleration (x): -0.31\n",
      "Acceleration (y): -0.36\n",
      "Acceleration (z): 9.47\n",
      "Magnetometer (x): 91.00\n",
      "Magnetometer (y): 331.00\n",
      "Magnetometer (z): 81.00\n",
      "Gyroscope (x): 1.00\n",
      "Gyroscope (y): -4.00\n",
      "Gyroscope (z): 0.00\n",
      "Time Stamp: 1090315\n",
      "Acceleration (x): -0.31\n",
      "Acceleration (y): -0.35\n",
      "Acceleration (z): 9.48\n",
      "Magnetometer (x): 97.00\n",
      "Magnetometer (y): 326.00\n",
      "Magnetometer (z): 86.00\n",
      "Gyroscope (x): 1.00\n",
      "Gyroscope (y): 0.00\n",
      "Gyroscope (z): 1.00\n",
      "Time Stamp: 1091315\n",
      "Acceleration (x): -0.32\n",
      "Acceleration (y): -0.33\n",
      "Acceleration (z): 9.45\n",
      "Magnetometer (x): 97.00\n",
      "Magnetometer (y): 320.00\n",
      "Magnetometer (z): 92.00\n",
      "Gyroscope (x): 0.00\n",
      "Gyroscope (y): 2.00\n",
      "Gyroscope (z): 1.00\n",
      "Time Stamp: 1092315\n",
      "Acceleration (x): -0.32\n",
      "Acceleration (y): -0.34\n",
      "Acceleration (z): 9.48\n",
      "Magnetometer (x): 171.00\n",
      "Magnetometer (y): 516.00\n",
      "Magnetometer (z): 134.00\n",
      "Gyroscope (x): 1.00\n",
      "Gyroscope (y): 0.00\n",
      "Gyroscope (z): 0.00\n",
      "Time Stamp: 1093315\n",
      "Acceleration (x): -0.30\n",
      "Acceleration (y): -0.36\n",
      "Acceleration (z): 9.47\n",
      "Magnetometer (x): 177.00\n",
      "Magnetometer (y): 523.00\n",
      "Magnetometer (z): 140.00\n",
      "Gyroscope (x): 1.00\n",
      "Gyroscope (y): -2.00\n"
     ]
    },
    {
     "ename": "KeyboardInterrupt",
     "evalue": "",
     "output_type": "error",
     "traceback": [
      "\u001b[0;31m---------------------------------------------------------------------------\u001b[0m",
      "\u001b[0;31mKeyboardInterrupt\u001b[0m                         Traceback (most recent call last)",
      "\u001b[0;32m<ipython-input-22-6ff193ff6c3f>\u001b[0m in \u001b[0;36m<module>\u001b[0;34m\u001b[0m\n\u001b[1;32m      9\u001b[0m     \u001b[0mprint\u001b[0m\u001b[0;34m(\u001b[0m\u001b[0mstring\u001b[0m\u001b[0;34m)\u001b[0m\u001b[0;34m\u001b[0m\u001b[0;34m\u001b[0m\u001b[0m\n\u001b[1;32m     10\u001b[0m     \u001b[0mdata\u001b[0m\u001b[0;34m.\u001b[0m\u001b[0mappend\u001b[0m\u001b[0;34m(\u001b[0m\u001b[0mstring\u001b[0m\u001b[0;34m)\u001b[0m           \u001b[0;31m# add to the end of data list\u001b[0m\u001b[0;34m\u001b[0m\u001b[0;34m\u001b[0m\u001b[0m\n\u001b[0;32m---> 11\u001b[0;31m     \u001b[0mtime\u001b[0m\u001b[0;34m.\u001b[0m\u001b[0msleep\u001b[0m\u001b[0;34m(\u001b[0m\u001b[0;36m0.1\u001b[0m\u001b[0;34m)\u001b[0m            \u001b[0;31m# wait (sleep) 0.1 seconds\u001b[0m\u001b[0;34m\u001b[0m\u001b[0;34m\u001b[0m\u001b[0m\n\u001b[0m\u001b[1;32m     12\u001b[0m \u001b[0;34m\u001b[0m\u001b[0m\n\u001b[1;32m     13\u001b[0m \u001b[0mserialPort\u001b[0m\u001b[0;34m.\u001b[0m\u001b[0mclose\u001b[0m\u001b[0;34m\u001b[0m\u001b[0;34m\u001b[0m\u001b[0m\n",
      "\u001b[0;31mKeyboardInterrupt\u001b[0m: "
     ]
    }
   ],
   "source": [
    "# Read and record the data\n",
    "data =[]                       # empty list to store the data\n",
    "\n",
    "#for i in range(50):\n",
    "while(True):\n",
    "    b = serialPort.readline()         # read a byte string\n",
    "    string_n = b.decode()  # decode byte string into Unicode  \n",
    "    string = string_n.rstrip() # remove \\n and \\r\n",
    "    print(string)\n",
    "    data.append(string)           # add to the end of data list\n",
    "    time.sleep(0.1)            # wait (sleep) 0.1 seconds\n",
    "    \n",
    "serialPort.close"
   ]
  },
  {
   "cell_type": "markdown",
   "id": "f24183dd",
   "metadata": {},
   "source": [
    "### Get Position From Acceleration\n"
   ]
  },
  {
   "cell_type": "code",
   "execution_count": 11,
   "id": "9c3ddd96",
   "metadata": {
    "scrolled": true
   },
   "outputs": [
    {
     "name": "stdout",
     "output_type": "stream",
     "text": [
      "Velocity is: \n",
      "3.8599999999999985\n"
     ]
    }
   ],
   "source": [
    "## First with 1 Axis\n",
    "#Random Test data\n",
    "\n",
    "AccX = [0,\n",
    "       0.01,\n",
    "       0.02,\n",
    "       0.03,\n",
    "       0.04,\n",
    "       0.05,\n",
    "       0.03,\n",
    "       0.8,\n",
    "       0,\n",
    "       0.01,\n",
    "       0.02,\n",
    "       -0.03,\n",
    "       0.04,\n",
    "       0.05,\n",
    "       -0.03,\n",
    "       0.8,\n",
    "       0,\n",
    "       0.01,\n",
    "       0.02,\n",
    "       0.03,\n",
    "       0.04,\n",
    "       0.05,\n",
    "       0.03,\n",
    "       0.8,\n",
    "       0,\n",
    "       0.01,\n",
    "       0.02,\n",
    "       0.03,\n",
    "       0.04,\n",
    "       0.05,\n",
    "       0.03,\n",
    "       0.8,\n",
    "       0,\n",
    "       0.01,\n",
    "       0.02,\n",
    "       0.03,\n",
    "       0.04,\n",
    "       0.05,\n",
    "       0.03,\n",
    "       0.8,\n",
    "       0,\n",
    "       0.01,\n",
    "       0.02,\n",
    "       -0.03,\n",
    "       -0.04,\n",
    "       -0.05,\n",
    "       -0.03,\n",
    "       -0.8]\n",
    "\n",
    "\n",
    "## This works for taking a single integration, but becuase it returns one value it cannpt be used to take n integrations.\n",
    "def approximateIntegration(points):\n",
    "    x = 0\n",
    "    for dx in points:\n",
    "        x = x + dx\n",
    "    return x\n",
    "\n",
    "VelX = approximateIntegration(AccX)\n",
    "print(\"Velocity is: \")\n",
    "print(VelX)\n",
    "\n",
    "# PosX = approximateIntegration(VelX)\n",
    "# print(\"Change in Position (Distance) is: \")\n",
    "# print(PosX)"
   ]
  },
  {
   "cell_type": "code",
   "execution_count": 7,
   "id": "8e3529eb",
   "metadata": {},
   "outputs": [
    {
     "name": "stdout",
     "output_type": "stream",
     "text": [
      "True\n"
     ]
    }
   ],
   "source": [
    "\n"
   ]
  },
  {
   "cell_type": "code",
   "execution_count": null,
   "id": "e15ccd78",
   "metadata": {},
   "outputs": [],
   "source": []
  }
 ],
 "metadata": {
  "kernelspec": {
   "display_name": "Python 3",
   "language": "python",
   "name": "python3"
  },
  "language_info": {
   "codemirror_mode": {
    "name": "ipython",
    "version": 3
   },
   "file_extension": ".py",
   "mimetype": "text/x-python",
   "name": "python",
   "nbconvert_exporter": "python",
   "pygments_lexer": "ipython3",
   "version": "3.8.8"
  }
 },
 "nbformat": 4,
 "nbformat_minor": 5
}
