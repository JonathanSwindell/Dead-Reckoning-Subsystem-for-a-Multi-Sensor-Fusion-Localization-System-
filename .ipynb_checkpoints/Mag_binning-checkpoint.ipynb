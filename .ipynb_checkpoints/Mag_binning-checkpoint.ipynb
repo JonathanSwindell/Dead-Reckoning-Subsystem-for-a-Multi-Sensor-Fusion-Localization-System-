{
 "cells": [
  {
   "cell_type": "code",
   "execution_count": 6,
   "id": "31a0d731",
   "metadata": {},
   "outputs": [
    {
     "name": "stdout",
     "output_type": "stream",
     "text": [
      "{(1, 1): [(34.727927, -86.641595)]}\n"
     ]
    }
   ],
   "source": [
    "import numpy as np\n",
    "from geopy.distance import geodesic\n",
    "\n",
    "def group_locations(longitudes, latitudes):\n",
    "    # create a grid of 5 meter by 5 meter cells\n",
    "    lon_min, lon_max = min(longitudes), max(longitudes)\n",
    "    lat_min, lat_max = min(latitudes), max(latitudes)\n",
    "    lon_bins = np.arange(lon_min, lon_max + 0.00005, 0.00005 * 5)\n",
    "    lat_bins = np.arange(lat_min, lat_max + 0.00005, 0.00005 * 5)\n",
    "\n",
    "    # group locations into cells\n",
    "    cells = {}\n",
    "    for i in range(len(longitudes)):\n",
    "        lon, lat = longitudes[i], latitudes[i]\n",
    "        cell = (np.digitize(lon, lon_bins), np.digitize(lat, lat_bins))\n",
    "        if cell not in cells:\n",
    "            cells[cell] = []\n",
    "        cells[cell].append((lon, lat))\n",
    "\n",
    "    return cells\n",
    "\n",
    "# example usage\n",
    "# 34.718143, -86.647651 edge of OKT - south west edge of campus\n",
    "# 34.719184, -86.63336 south east edge of campus\n",
    "# 34.734527, -86.635936 north east edge of campus\n",
    "# 34.734879, -86.648617 north west edge of campus\n",
    "longitudes = [34.727927, 1.234571, 1.234578, 1.234567, 1.236830]\n",
    "latitudes = [-86.641595, 2.345682, 2.345680, 2.345683, 2.345683]\n",
    "cells = group_locations(longitudes, latitudes)\n",
    "print(cells)\n"
   ]
  },
  {
   "cell_type": "code",
   "execution_count": null,
   "id": "85b48a13",
   "metadata": {},
   "outputs": [],
   "source": []
  }
 ],
 "metadata": {
  "kernelspec": {
   "display_name": "Python 3",
   "language": "python",
   "name": "python3"
  },
  "language_info": {
   "codemirror_mode": {
    "name": "ipython",
    "version": 3
   },
   "file_extension": ".py",
   "mimetype": "text/x-python",
   "name": "python",
   "nbconvert_exporter": "python",
   "pygments_lexer": "ipython3",
   "version": "3.8.8"
  }
 },
 "nbformat": 4,
 "nbformat_minor": 5
}
